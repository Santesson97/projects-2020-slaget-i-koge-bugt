{
 "cells": [
  {
   "cell_type": "markdown",
   "metadata": {},
   "source": [
    "# Inaugural Project"
   ]
  },
  {
   "cell_type": "markdown",
   "metadata": {},
   "source": [
    "Group: Slaget i Køge Bugt\n",
    "\n",
    "Group members: Asger Bjerg Pedersen, vjr207. Rasmus Juel, qsw248."
   ]
  },
  {
   "cell_type": "markdown",
   "metadata": {},
   "source": [
    "Import and settings."
   ]
  },
  {
   "cell_type": "code",
   "execution_count": 1,
   "metadata": {},
   "outputs": [],
   "source": [
    "import numpy as np\n",
    "\n",
    "# autoreload modules when code is run\n",
    "%load_ext autoreload\n",
    "%autoreload 2"
   ]
  },
  {
   "cell_type": "markdown",
   "metadata": {},
   "source": [
    "**Labour supply problem**. Consider a consumer solving the following maximization problem"
   ]
  },
  {
   "cell_type": "markdown",
   "metadata": {},
   "source": [
    "$$ c^\\star, \\ell^\\star = \\arg\\max_{c, l}\\log(c) - v\\cdot\\frac{\\ell^{1+\\frac{1}{\\epsilon}}}{1+\\frac{1}{\\epsilon}} $$\n",
    "s.t.\n",
    "$$ x=m+w\\ell-[\\tau_0w\\ell+\\tau_1\\max\\{w\\ell-\\kappa,0\\}] $$\n",
    "\n",
    "$$ c\\in[0,x] $$\n",
    "\n",
    "$$ \\ell\\in[0,1] $$\n"
   ]
  },
  {
   "cell_type": "markdown",
   "metadata": {},
   "source": [
    "where $c$ is consumption, $\\ell$ is labour supply, $m$ is cash-on-hand, $w$ is the wage rate, $\\tau_0$ is the standard labour income tax, $\\tau_1$ is tge top bracket labour income tax, $\\kappa$ is the cut-off ofr the top labour income bracket, $x$ is total resources, $v$ scales the disutility of labour, and $\\epsilon$ is the (Frisch) elasticity of labour supply."
   ]
  },
  {
   "cell_type": "markdown",
   "metadata": {
    "toc-hr-collapsed": true
   },
   "source": [
    "## Question 1"
   ]
  },
  {
   "cell_type": "markdown",
   "metadata": {},
   "source": [
    "To construct a function solving the consumer maximization problem, we first define the parameters that enter the utility function and the resource constraint."
   ]
  },
  {
   "cell_type": "code",
   "execution_count": 4,
   "metadata": {},
   "outputs": [],
   "source": [
    "#1.1. Define value of variables\n",
    "money = 1 #m\n",
    "v = 10 #v\n",
    "frisch = 0.3 #epsilon\n",
    "ltax = 0.4 #tau_0\n",
    "ttax = 0.1 #tau_1\n",
    "cutoff = 0.4 #kappa\n",
    "w = 0.5 #w set with an initial value"
   ]
  },
  {
   "cell_type": "markdown",
   "metadata": {},
   "source": [
    "Now, define the labour supply utility function and the budget constraint function."
   ]
  },
  {
   "cell_type": "code",
   "execution_count": 5,
   "metadata": {},
   "outputs": [],
   "source": [
    "#1.2. Define utility as a function of labour supply and consumption\n",
    "def labour_utility(l,c,frisch,v):\n",
    "    u = np.log(c) - v*l**(1 + 1/frisch)/(1 + 1/frisch)\n",
    "    return u\n",
    "\n",
    "#1.3. Define budget constraint; feasible consumption given labour supply and wage\n",
    "def budget_constraint(money,w,l,ltax,ttax,cutoff):\n",
    "    budget = money + w*l - w*l*ltax - ttax*max((w*l - cutoff),0)\n",
    "    return budget"
   ]
  },
  {
   "cell_type": "markdown",
   "metadata": {},
   "source": [
    "As we have now defined the functions that we wish to maximise, we move to solving the labour supply problem. Note that we apply:\n",
    "\\\n",
    "\\\n",
    "$$c^\\star=x$$\n",
    "\\\n",
    "i.e. utility is monotonically increasing in consumption, the consumer will always spend his entire budget $x$ on consumption $c$. We solve the agent's labour supply problem using the solver command imported from the $scipy$ module, plugging in the resource constraint. \n",
    "\\\n",
    "\\\n",
    "The objective function $value\\_of\\_choice\\_budget$ returns the negative value of the utility following an arbitrary pair of $(c,l)$. Applying $c$ as a function of $\\ell$, we construct a function $optimiser$ that finds the labour supply $\\ell^\\star$ which minimises this negative utility given the set of parameters and the wage level $w$, and the feasible level of consumption following this labour supply. As the total time endowment is 1, we also apply the bounds that $\\ell\\in[0,1]$."
   ]
  },
  {
   "cell_type": "code",
   "execution_count": 6,
   "metadata": {},
   "outputs": [],
   "source": [
    "from scipy import optimize\n",
    "\n",
    "#1.4. Objective function returning negative utility, to minimize\n",
    "def value_of_choice_budget(l,w,frisch,v,ltax,ttax,cutoff):\n",
    "    c = budget_constraint(money,w,l,ltax,ttax,cutoff)\n",
    "    return -labour_utility(l,c,frisch,v)\n",
    "\n",
    "#1.5.1. Call the solver given the target from 1.4 and the constraint from 1.3.\n",
    "def optimiser(w,frisch,v,ltax,ttax,cutoff,money):\n",
    "    sol_case1 = optimize.minimize_scalar(\n",
    "        value_of_choice_budget, method = 'bounded',\n",
    "        bounds=(0,1), args = (w,frisch,v,ltax,ttax,cutoff))\n",
    "    \"\"\" Solving the agent's problem of optimal labour supply and consumption.\n",
    "    \n",
    "    Args:\n",
    "    \n",
    "        w (float): Individual wage\n",
    "        frisch (float): Frisch elasticity of labour supply\n",
    "        v (float): Disutility of labour multiplier\n",
    "        ltax (float): lower tax rate\n",
    "        ttax (float): additional upper tax rate\n",
    "        cutoff (float): cutoff between lower and upper tax rate\n",
    "        money (float): initial money endowment\n",
    "        \n",
    "    Returns:\n",
    "    \n",
    "        (list): Optimal labour supply, feasible consumption, utility level from the two former\n",
    "    \n",
    "    \"\"\"\n",
    "\n",
    "#1.5.2. Unpack optimal labour supply, then return feasible consumption and implied individual utility\n",
    "    lstar = sol_case1.x\n",
    "    cstar = budget_constraint(money,w,lstar,ltax,ttax,cutoff)\n",
    "    ustar = labour_utility(lstar,cstar,frisch,v)\n",
    "    return [lstar,cstar,ustar]"
   ]
  },
  {
   "cell_type": "markdown",
   "metadata": {},
   "source": [
    "We have thus now constructed a function which solves the consumer maximization problem."
   ]
  },
  {
   "cell_type": "markdown",
   "metadata": {},
   "source": [
    "## Question 2"
   ]
  },
  {
   "cell_type": "markdown",
   "metadata": {},
   "source": [
    "In this question, we plot $\\ell^\\star$ and $c^\\star$ as functions of the wage rate, $w$, going from 0.5 to 1.5. For this purpose, we import the $pyplot$ module. Rather than making a continous function for the whole range $w \\in [0.5,1.5]$, we create a vector with 1000 values of $\\ell^\\star$ and $c^\\star$ given $w$ (derived with our $optimiser$ function).\n",
    "\\\n",
    "\\\n",
    "The results are as follows:\n"
   ]
  },
  {
   "cell_type": "code",
   "execution_count": 7,
   "metadata": {},
   "outputs": [],
   "source": [
    "import matplotlib.pyplot as plt\n",
    "plt.style.use(\"seaborn\")\n",
    "\n",
    "#2.1. Set number of observations\n",
    "N=1000\n",
    "\n",
    "#2.2.1. Generate vectors of optimal labour supply and feasible consumption given wage.\n",
    "w_vec=np.linspace(0.5,1.5,N)\n",
    "l_vec=np.empty(N)\n",
    "c_vec=np.empty(N)\n",
    "for i,w in enumerate(w_vec):\n",
    "    l_c_bundle=optimiser(w,frisch,v,ltax,ttax,cutoff,money)\n",
    "    #2.2.2. As the optimiser function returns a list of optimal labour supply and feasible consumption,\n",
    "            #extract the relevant results. Copy them to the list of labour supply and consupmtion.\n",
    "    l_vec[i]=l_c_bundle[0]\n",
    "    c_vec[i]=l_c_bundle[1]\n",
    "\n",
    "#2.3.1 Create the figure\n",
    "fig = plt.figure(figsize=(10,4))\n",
    "\n",
    "#2.3.2. Left plot; labour supply\n",
    "ax_left = fig.add_subplot(1,2,1)\n",
    "ax_left.plot(w_vec,l_vec)\n",
    "\n",
    "ax_left.set_title('Optimal labour supply given wage')\n",
    "ax_left.set_xlabel('$w$')\n",
    "ax_left.set_ylabel('$l^\\star$')\n",
    "ax_left.grid(True)\n",
    "\n",
    "#2.3.3. right plot; feasible consumption\n",
    "ax_right = fig.add_subplot(1,2,2)\n",
    "ax_right.plot(w_vec,c_vec)\n",
    "\n",
    "ax_right.set_title('Optimal consumption given wage')\n",
    "ax_right.set_xlabel('$w$')\n",
    "ax_right.set_ylabel('$c^\\star$')\n",
    "ax_right.grid(True)"
   ]
  },
  {
   "cell_type": "markdown",
   "metadata": {},
   "source": [
    "As expected, we see a jump down around the threshold for the top tax $\\kappa=0.4$ for $w=1$ since we are here going from paying the low tax to pay a higher tax on our additional earnings. Here, the consumer will experience an increase in the marginal cost of consumption relative to leisure, for which reason, as can be seen on the panel on the right-hand side, he will increase his demand for leisure while his demand for consumption is stagnant. Consumption will be kept at a level of 1.24, for which a labour income of 0.4 is required given a tax rate of 0.4 and a money endowment of 1. For some interval, the marginal utility from consumption will be ruled out by the marginal utility of leisure, requiring a smaller labour supply when the wage per unit of labour increases. Decreasing the labour supply such that the wage is arbitrarily below 0.4, however, it will be optimal to marginally increase this labour supply until the point where the total wage is excactly 0.4. When the marginal utility from consumption once again equals the marginal utility from leisure, the consumer will gradually begin increasing his labour supply again. \n",
    "\\\n",
    "\\\n",
    "All this goes without saying that the standard microeconomic requirement of the marginal rate of substitution between consumption and leisure should equal the relative prices between the two is not defined at an income level of 0.4."
   ]
  },
  {
   "cell_type": "markdown",
   "metadata": {},
   "source": [
    "## Question 3"
   ]
  },
  {
   "cell_type": "markdown",
   "metadata": {},
   "source": [
    "We now calculate the total tax revenue for the conditions specified in the problem. We first draw a vector of individual wages $w_i$ where $w_i\\sim U((0.5),(1.5))$ for the 10.000 consumers. We denote the optimal choices given $w$ of individual $i$ as $\\ell_i^\\star$ and $c_i^\\star$. We then calculate the total tax revenue. To do so, we define the function 'TotalTax', which, using the optimser from the previous problem, finds the tax payment for indivudal $i$ and then sums all of the payments to get the total tax revenue.\n",
    "\\\n",
    "\\\n",
    "This reads:"
   ]
  },
  {
   "cell_type": "code",
   "execution_count": 10,
   "metadata": {},
   "outputs": [
    {
     "name": "stdout",
     "output_type": "stream",
     "text": [
      "The total tax revenue is 1627.2\n"
     ]
    }
   ],
   "source": [
    "#3.1. Set seed and draw 10.000 random wages given the distribution\n",
    "np.random.seed(4600)\n",
    "PopWageLarge = np.random.uniform(0.5,1.5,size=10000)\n",
    "\n",
    "\n",
    "def TotalTax(PopWageVector,frisch,v,ltax,ttax,cutoff,money):\n",
    "    \"\"\" Calculating total tax revenue for a vector of preference-invariant agents idiosyncratic in wages.\n",
    "    \n",
    "    Args:\n",
    "    \n",
    "        PopWageVector (array): Popular wages\n",
    "        frisch (float): Frisch elasticity of labour supply\n",
    "        v (float): Disutility of labour multiplier\n",
    "        ltax (float): lower tax rate\n",
    "        ttax (float): additional upper tax rate\n",
    "        cutoff (float): cutoff between lower and upper tax rate\n",
    "        money (float): initial money endowment\n",
    "        \n",
    "    Returns:\n",
    "    \n",
    "        TotTax (float): Total tax revenue\n",
    "    \n",
    "    \"\"\"\n",
    "    #3.2. Return an array for individual tax payments\n",
    "    N=len(PopWageVector)\n",
    "    PopTaxes=np.zeros((N))\n",
    "\n",
    "    for i,w in enumerate(PopWageVector):\n",
    "        #3.3.1. Return optimal labour supply given wage from the optimiser function\n",
    "        Ind_optimum=optimiser(w,frisch,v,ltax,ttax,cutoff,money)\n",
    "        IndLabour=Ind_optimum[0]\n",
    "        #3.3.2. Return tax payment given the income yielded by optimal labour supply\n",
    "        PopTaxes[i]=ltax*w*IndLabour+ttax*max(w*IndLabour-cutoff,0)\n",
    "    #3.4. Sum over all tax payments\n",
    "    TotTax=sum(PopTaxes)\n",
    "    return TotTax\n",
    "\n",
    "#3.5. Call total tax functions given the array of randomly drawn wages.\n",
    "TotTax0 = TotalTax(PopWageLarge,frisch,v,ltax,ttax,cutoff,money)\n",
    "print(f'The total tax revenue is {TotTax0:.1f}')"
   ]
  },
  {
   "cell_type": "markdown",
   "metadata": {},
   "source": [
    "Given the parameters, this total tax revenue of 1,627 is also something we would expect, since the tax is a product of the wage rate, $w$, and the labour supply, $\\ell$. If all the 10,000 citizens pay $w\\cdot\\ell$ in tax, and $\\ell$ is around $0.4$ with the wage rate $w \\in \\{0.5,1.5\\}$, this value seems to be a plausible result for the total tax revenue."
   ]
  },
  {
   "cell_type": "markdown",
   "metadata": {},
   "source": [
    "## Question 4"
   ]
  },
  {
   "cell_type": "markdown",
   "metadata": {},
   "source": [
    "We find out what the tax revenue would be if instead $\\epsilon = 0,1$ by calling the function from the previous question with a Frish elasticity of labour supply of 0,1."
   ]
  },
  {
   "cell_type": "code",
   "execution_count": 22,
   "metadata": {},
   "outputs": [
    {
     "name": "stdout",
     "output_type": "stream",
     "text": [
      "The total tax revenue is 3191.2\n"
     ]
    }
   ],
   "source": [
    "#4.1. Define new value of \\epsilon and call the TotalTax function given the 10.000 wage levels and new epsilon\n",
    "InelasticFrisch = 0.1\n",
    "TotTaxHiFrisch = TotalTax(PopWageLarge,InelasticFrisch,v,ltax,ttax,cutoff,money)\n",
    "print(f'The total tax revenue is {TotTaxHiFrisch:.1f}')"
   ]
  },
  {
   "cell_type": "markdown",
   "metadata": {},
   "source": [
    "We see that as the elasticity of labour supply decreases, the marginal rate of substitution between consumption and leisure changes for a given wage rate such that it is optimal for the consumer to supply more labour. And so, the tax revenue increases to 3,191. Almost doubling the tax revenue, the change in the tax revenue is qualitatively changing in the direction one would expect for a lower elasticity of labour supply."
   ]
  },
  {
   "cell_type": "markdown",
   "metadata": {},
   "source": [
    "## Question 5"
   ]
  },
  {
   "cell_type": "markdown",
   "metadata": {},
   "source": [
    "We now consider a politician who wishes to maximize the tax revenue. We want to find the values of $\\tau_0$, $\\tau_1$ and $\\kappa$ for this to be realised, and afterwards, report the tax revenue which we would expect to obtain from this. When optimising, we are maximising the tax revenue, i.e. the output of the TotalTax function from problem 3 with respect to the vector $taxes=\\{\\tau_0^\\star,\\tau_1^\\star,\\kappa^\\star\\}$. This is --- in principle --- done given the randomly drawn vector PopWagesLarge (wages for all 10.000 citizens), the elasticity of labour supply, the scale and the cash-on-hand as given parameters from the problem text.\n",
    "\\\n",
    "\\\n",
    "Our initial values for the vector was $\\{0.4, 0.1, 0.4\\}$, but we have placed the initial guesses in the function closer to the right solution afterwards for the to reduce the time it takes the kernel to solve the problem.\n",
    "\\\n",
    "Noting that the wage levels are randomly distributed, equivalent results for $taxes=\\{\\tau_0^\\star,\\tau_1^\\star,\\kappa^\\star\\}$ could be estimated for populations of 100 or 1.000. According to the law of large numbers, this should have only negligible effects to the optimal $\\{\\tau_0^\\star,\\tau_1^\\star,\\kappa^\\star\\}$, but greatly reduce the time for solving the problem. Below the code, an additional cell solving the problem for the full population is provided."
   ]
  },
  {
   "cell_type": "code",
   "execution_count": 25,
   "metadata": {},
   "outputs": [
    {
     "name": "stdout",
     "output_type": "stream",
     "text": [
      "Optimal taxes and estimated total tax revenue, N=100\n",
      "Optimal lower tax rate is 0.786\n",
      "Optimal upper tax rate is 0.047\n",
      "Optimal cutoff income is 0.530\n",
      "Estimated total tax revenue is 2462.3\n",
      "Optimal taxes and estimated total tax revenue, N=1000\n",
      "Optimal lower tax rate is 0.785\n",
      "Optimal upper tax rate is 0.052\n",
      "Optimal cutoff income is 0.526\n",
      "Estimated total tax revenue is 2462.3\n"
     ]
    }
   ],
   "source": [
    "#5.1 Draw alternative vector \n",
    "PopWageSmall = np.random.uniform(0.5,1.5,size=100)\n",
    "PopWageMedium = np.random.uniform(0.5,1.5,size=1000)\n",
    "\n",
    "\n",
    "#5.2.1  Create a vector 'taxes' which includes 'ltax', 'ttax' and 'cutoff'\n",
    "        #return the total tax for the 100, 1000 or 10000 people\n",
    "def value_of_choice_tax(taxes,PopWage,frisch,v,money):\n",
    "    \n",
    "    ltax = taxes[0]\n",
    "    ttax = taxes[1]\n",
    "    cutoff = taxes[2]\n",
    "    return -TotalTax(PopWage,frisch,v,ltax,ttax,cutoff,money)\n",
    "\n",
    "#5.2.2  Define the 'taxOptimiser' function, find the tax maximising values of the vector 'taxes'.\n",
    "def taxOptimiser(PopWage,frisch,v,money):\n",
    "    \"\"\" Solving the government's problem in maximising tax revenue.\n",
    "    \n",
    "    Args:\n",
    "    \n",
    "        w (array): Popular wages\n",
    "        frisch (float): Frisch elasticity of labour supply\n",
    "        v (float): Disutility of labour multiplier\n",
    "        money (float): initial money endowment\n",
    "        \n",
    "    Returns:\n",
    "    \n",
    "        (list): Optimal lower tax rate, optimal additional upper tax rate, \n",
    "                cutoff between upper and lower tax rate\n",
    "    \n",
    "    \"\"\"\n",
    "    # 5.2.3 Call solver\n",
    "    initial_guess = [0.785,0.055,0.470]\n",
    "    sol_case3 = optimize.minimize(\n",
    "        value_of_choice_tax,initial_guess,method='Nelder-Mead',\n",
    "        args=(PopWage,frisch,v,money))\n",
    "\n",
    "    ltaxStar=sol_case3.x[0]\n",
    "    ttaxStar=sol_case3.x[1]\n",
    "    cutoffStar=sol_case3.x[2]\n",
    "\n",
    "    #5.2.4 Print the solution   \n",
    "    print(f'Optimal lower tax rate is {ltaxStar:.3f}')\n",
    "    print(f'Optimal upper tax rate is {ttaxStar:.3f}')\n",
    "    print(f'Optimal cutoff income is {cutoffStar:.3f}')\n",
    "    \n",
    "    return[ltaxStar,ttaxStar,cutoffStar]\n",
    "\n",
    "print('Optimal taxes and estimated total tax revenue, N=100')\n",
    "[ltaxStar,ttaxStar,cutoffStar]=taxOptimiser(PopWageSmall,frisch,v,money)\n",
    "TotTaxSmall = TotalTax(PopWageLarge,frisch,v,ltaxStar,ttaxStar,cutoffStar,money)\n",
    "print(f'Estimated total tax revenue is {TotTaxSmall:.1f}')\n",
    "\n",
    "print('Optimal taxes and estimated total tax revenue, N=1000')\n",
    "[ltaxStar,ttaxStar,cutoffStar]=taxOptimiser(PopWageMedium,frisch,v,money)\n",
    "TotTaxMedium = TotalTax(PopWageLarge,frisch,v,ltaxStar,ttaxStar,cutoffStar,money)\n",
    "print(f'Estimated total tax revenue is {TotTaxMedium:.1f}')"
   ]
  },
  {
   "cell_type": "code",
   "execution_count": 24,
   "metadata": {},
   "outputs": [
    {
     "name": "stdout",
     "output_type": "stream",
     "text": [
      "Optimal taxes and estimated total tax revenue, full population\n",
      "Optimal lower tax rate is 0.785\n",
      "Optimal upper tax rate is 0.054\n",
      "Optimal cutoff income is 0.531\n",
      "Estimated total tax revenue is 2462.34\n"
     ]
    }
   ],
   "source": [
    "print('Optimal taxes and estimated total tax revenue, full population')\n",
    "[ltaxStar,ttaxStar,cutoffStar]=taxOptimiser(PopWageLarge,frisch,v,money)\n",
    "TotTaxLarge = TotalTax(PopWageLarge,frisch,v,ltaxStar,ttaxStar,cutoffStar,money)\n",
    "print(f'Estimated total tax revenue is {TotTaxLarge:.2f}')"
   ]
  },
  {
   "cell_type": "markdown",
   "metadata": {},
   "source": [
    "Our optimiser suggests that the optimal tax rate is 78.5 %, the additional tax rate for top incomes should be 5.4 %, so that their tax rate increases to 83.9 %, and the cutoff is increased to an income of 0,531. We also note that, even though there are minor differences in the parameters found for the population of 100, 1000 and 10000 citizens, the estimated total tax revenue is the same for all the populations, showing exactly our point that law of large numbers apply in this particular problem. The small differences in the parameters found just suggests that there are different combinations of the paramters which all together maximizes the total tax revenue.\n",
    "\\\n",
    "\\\n",
    "The tax revenue for the parameters of the problem is so increased from 1627 to 2462, showing that the values (found with the optimiser) for the tax rates and the cutoff firmly increases the tax revenue."
   ]
  },
  {
   "cell_type": "markdown",
   "metadata": {},
   "source": [
    "# Conclusion"
   ]
  },
  {
   "cell_type": "markdown",
   "metadata": {},
   "source": [
    "In this notebook, we have derived optimal labour supply given wages and tax parameters. Optimal labour supply is increasing in the wage per unit of labour supplied, however, distorting taxes lower the labour supply, which is especially clear when looking at those paying high income taxes. For a politician wishing to maximise the tax revenue, it is possible to increase the tax rates as well as the tax revenue substantially from the initial conditions."
   ]
  }
 ],
 "metadata": {
  "kernelspec": {
   "display_name": "Python 3",
   "language": "python",
   "name": "python3"
  },
  "language_info": {
   "codemirror_mode": {
    "name": "ipython",
    "version": 3
   },
   "file_extension": ".py",
   "mimetype": "text/x-python",
   "name": "python",
   "nbconvert_exporter": "python",
   "pygments_lexer": "ipython3",
   "version": "3.7.4"
  },
  "toc-autonumbering": true
 },
 "nbformat": 4,
 "nbformat_minor": 4
}

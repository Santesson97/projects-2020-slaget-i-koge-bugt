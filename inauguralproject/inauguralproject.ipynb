{
 "cells": [
  {
   "cell_type": "markdown",
   "metadata": {},
   "source": [
    "# Inaugural Project"
   ]
  },
  {
   "cell_type": "markdown",
   "metadata": {},
   "source": [
    "Slaget i Køge Bugt"
   ]
  },
  {
   "cell_type": "code",
   "execution_count": 1,
   "metadata": {},
   "outputs": [],
   "source": [
    "import numpy as np\n",
    "\n",
    "# autoreload modules when code is run\n",
    "%load_ext autoreload\n",
    "%autoreload 2\n",
    "\n",
    "# local modules\n",
    "import inauguralproject"
   ]
  },
  {
   "cell_type": "markdown",
   "metadata": {
    "toc-hr-collapsed": true
   },
   "source": [
    "# Question 1"
   ]
  },
  {
   "cell_type": "markdown",
   "metadata": {},
   "source": [
    "First, we define the parameters that enter the utility function and the resource constraint."
   ]
  },
  {
   "cell_type": "code",
   "execution_count": 2,
   "metadata": {},
   "outputs": [],
   "source": [
    "money=1 #m\n",
    "v=10 #v\n",
    "frisch=0.3 #epsilon\n",
    "ltax=0.4 #tau_0\n",
    "ttax=0.1 #tau_1\n",
    "cutoff=0.4 #kappa\n",
    "w=0.5"
   ]
  },
  {
   "cell_type": "markdown",
   "metadata": {},
   "source": [
    "Now, define the labour supply utility function and the budget constraint function."
   ]
  },
  {
   "cell_type": "code",
   "execution_count": 3,
   "metadata": {},
   "outputs": [],
   "source": [
    "def laboursupply(l,c,frisch,v):\n",
    "    #Returning utility from labour supply and consumption\n",
    "    u=np.log(c)-v*l**(1+1/frisch)/(1+1/frisch)\n",
    "    return (u)\n",
    "\n",
    "def budget_constraint(money,w,l,ltax,ttax,cutoff):\n",
    "    #Returning total resources in terms of wage less taxes and cash\n",
    "    budget=money+w*l-w*l*ltax-ttax*max((w*l-cutoff),0)\n",
    "    return budget\n"
   ]
  },
  {
   "cell_type": "markdown",
   "metadata": {},
   "source": [
    "As we have now defined the functions that we wish to maximise, we move to solving the labour supply problem. Note that we apply:\n",
    "$$c^\\star=x$$\n",
    "i.e. that as utility is monotonically increasing in consumption, the consumer will always spend his entire budget $x$ on consumption $c$. We solve the agent's labour supply problem using the $optimize$ command imported from $scipy$. For a given labour supply, we return the possible level of consumption and the negative value of utility following from these pairs of $(c,l)$. We then minimise this negative utility to find the optimal $(c^\\star,l^\\star)$."
   ]
  },
  {
   "cell_type": "code",
   "execution_count": 5,
   "metadata": {},
   "outputs": [],
   "source": [
    "from scipy import optimize\n",
    "\n",
    "#Objective function returning negative utility, to minimize\n",
    "def value_of_choice_budget(l,w,frisch,v,ltax,ttax,cutoff):\n",
    "    c=budget_constraint(money,w,l,ltax,ttax,cutoff)\n",
    "    return -laboursupply(l,c,frisch,v)\n",
    "\n",
    "def optimiser(w,frisch,v,ltax,ttax,cutoff,money):\n",
    "    #Call the solver\n",
    "    sol_case1 = optimize.minimize_scalar(\n",
    "        value_of_choice_budget,method='bounded',\n",
    "        bounds=(0,1),args=(w,frisch,v,ltax,ttax,cutoff))\n",
    "\n",
    "    #Return optimal labour supply and consumption\n",
    "    lstar = sol_case1.x\n",
    "    cstar = budget_constraint(money,w,lstar,ltax,ttax,cutoff)\n",
    "    ustar = laboursupply(lstar,cstar,frisch,v)\n",
    "    return [lstar,cstar,ustar]\n"
   ]
  },
  {
   "cell_type": "markdown",
   "metadata": {},
   "source": [
    "# Question 2"
   ]
  },
  {
   "cell_type": "markdown",
   "metadata": {},
   "source": [
    "ADD ANSWER."
   ]
  },
  {
   "cell_type": "code",
   "execution_count": 6,
   "metadata": {},
   "outputs": [],
   "source": [
    "import matplotlib.pyplot as plt\n",
    "plt.style.use(\"seaborn\")\n",
    "\n",
    "N=1000\n",
    "w_vec=np.linspace(0.5,1.5,N)\n",
    "l_vec=np.empty(N)\n",
    "c_vec=np.empty(N)\n",
    "for i,w in enumerate(w_vec):\n",
    "    bundle=optimiser(w,frisch,v,ltax,ttax,cutoff,money)\n",
    "    l_vec[i]=bundle[0]\n",
    "    c_vec[i]=bundle[1]\n",
    "\n",
    "# a. create a figure\n",
    "fig = plt.figure(figsize=(10,4))\n",
    "\n",
    "# c. left plot\n",
    "ax_left = fig.add_subplot(1,2,1)\n",
    "\n",
    "ax_left.plot(w_vec,l_vec)\n",
    "\n",
    "ax_left.set_title('Optimal labour supply given wage')\n",
    "ax_left.set_xlabel('$w$')\n",
    "ax_left.set_ylabel('$l^\\star$')\n",
    "ax_left.grid(True)\n",
    "\n",
    "# c. right plot\n",
    "ax_right = fig.add_subplot(1,2,2)\n",
    "\n",
    "ax_right.plot(w_vec,c_vec)\n",
    "\n",
    "ax_right.set_title('Optimal consumption given wage')\n",
    "ax_right.set_xlabel('$w$')\n",
    "ax_right.set_ylabel('$c^\\star$')\n",
    "ax_right.grid(True)"
   ]
  },
  {
   "cell_type": "markdown",
   "metadata": {},
   "source": [
    "# Question 3"
   ]
  },
  {
   "cell_type": "markdown",
   "metadata": {},
   "source": [
    "We first draw a vector of individual wages $w_i$ where $w_i\\sim U((0,5),(1,5))$. "
   ]
  },
  {
   "cell_type": "code",
   "execution_count": 7,
   "metadata": {},
   "outputs": [
    {
     "data": {
      "text/plain": [
       "1627.1515816296296"
      ]
     },
     "execution_count": 7,
     "metadata": {},
     "output_type": "execute_result"
    }
   ],
   "source": [
    "np.random.seed(4600)\n",
    "PopWage = np.random.uniform(0.5,1.5,size=10000)\n",
    "    \n",
    "def TotalTax(PopWages,frisch,v,ltax,ttax,cutoff,money):\n",
    "    N=len(PopWage)\n",
    "    PopTaxes=np.zeros((N))\n",
    "\n",
    "    for i,w in enumerate(PopWage):\n",
    "        Ind_optimum=optimiser(w,frisch,v,ltax,ttax,cutoff,money)\n",
    "        IndLabour=Ind_optimum[0]\n",
    "        PopTaxes[i]=ltax*w*IndLabour+ttax*max(w*IndLabour-cutoff,0)\n",
    "    TotTax=sum(PopTaxes)\n",
    "    return TotTax\n",
    "\n",
    "TotalTax(PopWage,frisch,v,ltax,ttax,cutoff,money)"
   ]
  },
  {
   "cell_type": "markdown",
   "metadata": {},
   "source": [
    "# Question 4"
   ]
  },
  {
   "cell_type": "markdown",
   "metadata": {},
   "source": [
    "ADD ANSWER."
   ]
  },
  {
   "cell_type": "code",
   "execution_count": 8,
   "metadata": {},
   "outputs": [
    {
     "data": {
      "text/plain": [
       "3191.15863958847"
      ]
     },
     "execution_count": 8,
     "metadata": {},
     "output_type": "execute_result"
    }
   ],
   "source": [
    "InelasticFrisch = 0.1\n",
    "TotalTax(PopWage,InelasticFrisch,v,ltax,ttax,cutoff,money)"
   ]
  },
  {
   "cell_type": "markdown",
   "metadata": {},
   "source": [
    "# Question 5"
   ]
  },
  {
   "cell_type": "markdown",
   "metadata": {},
   "source": [
    "Mulig løsning, der finder optimal kollektiv skatterate."
   ]
  },
  {
   "cell_type": "code",
   "execution_count": 15,
   "metadata": {},
   "outputs": [
    {
     "name": "stdout",
     "output_type": "stream",
     "text": [
      "Optimal lower tax rate is 0.786\n",
      "Optimal upper tax rate is 0.054\n",
      "Optimal cutoff income is 0.531\n"
     ]
    }
   ],
   "source": [
    "PopWage = np.random.uniform(0.5,1.5,size=1000)\n",
    "def value_of_choice_tax(taxes,PopWage,frisch,v,money):\n",
    "    \n",
    "    ltax = taxes[0]\n",
    "    ttax = taxes[1]\n",
    "    cutoff = taxes[2]\n",
    "    return -TotalTax(PopWage,frisch,v,ltax,ttax,cutoff,money)\n",
    "\n",
    "# b. call solver\n",
    "initial_guess = [0.785,0.055,0.470]\n",
    "sol_case3 = optimize.minimize(\n",
    "    value_of_choice_tax,initial_guess,method='Nelder-Mead',\n",
    "    args=(PopWage,frisch,v,money))\n",
    "\n",
    "ltaxStar=sol_case3.x[0]\n",
    "ttaxStar=sol_case3.x[1]\n",
    "cutoffStar=sol_case3.x[2]\n",
    "\n",
    "print(f'Optimal lower tax rate is {ltaxStar:.3f}')\n",
    "print(f'Optimal upper tax rate is {ttaxStar:.3f}')\n",
    "print(f'Optimal cutoff income is {cutoffStar:.3f}')"
   ]
  },
  {
   "cell_type": "markdown",
   "metadata": {},
   "source": [
    "# Conclusion"
   ]
  },
  {
   "cell_type": "markdown",
   "metadata": {},
   "source": [
    "ADD CONCISE CONLUSION."
   ]
  }
 ],
 "metadata": {
  "kernelspec": {
   "display_name": "Python 3",
   "language": "python",
   "name": "python3"
  },
  "language_info": {
   "codemirror_mode": {
    "name": "ipython",
    "version": 3
   },
   "file_extension": ".py",
   "mimetype": "text/x-python",
   "name": "python",
   "nbconvert_exporter": "python",
   "pygments_lexer": "ipython3",
   "version": "3.7.4"
  },
  "toc-autonumbering": true
 },
 "nbformat": 4,
 "nbformat_minor": 4
}
